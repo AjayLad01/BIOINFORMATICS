{
  "nbformat": 4,
  "nbformat_minor": 0,
  "metadata": {
    "colab": {
      "name": "Untitled7.ipynb",
      "provenance": []
    },
    "kernelspec": {
      "name": "python3",
      "display_name": "Python 3"
    },
    "language_info": {
      "name": "python"
    }
  },
  "cells": [
    {
      "cell_type": "markdown",
      "source": [
        "MOTIF FINDING"
      ],
      "metadata": {
        "id": "TXu0jgxWGNPf"
      }
    },
    {
      "cell_type": "code",
      "execution_count": 2,
      "metadata": {
        "colab": {
          "base_uri": "https://localhost:8080/"
        },
        "id": "B-iXb1CDEyjC",
        "outputId": "ffaae0b2-83b7-48cb-df18-063390628c72"
      },
      "outputs": [
        {
          "output_type": "stream",
          "name": "stdout",
          "text": [
            "Acquire sequence is CTGAC\n",
            "2 CTGAC sequence found in our given file\n"
          ]
        }
      ],
      "source": [
        "import random\n",
        "import re\n",
        "f = open('/content/sample_data/motifseq.txt', 'r')\n",
        "file=f.read()\n",
        "randomvalue=random.randint(0,len(file)-5)\n",
        "\n",
        "i=5\n",
        "myseq=file[randomvalue:randomvalue+5]\n",
        "\n",
        "print('Acquire sequence is', myseq)\n",
        "\n",
        "allseq=re.findall(myseq,file)\n",
        "if len(allseq)==1:\n",
        "    print('No other seq found related to',myseq)\n",
        "else:\n",
        "    print(len(allseq)-1, f'{myseq} sequence found in our given file')"
      ]
    }
  ]
}