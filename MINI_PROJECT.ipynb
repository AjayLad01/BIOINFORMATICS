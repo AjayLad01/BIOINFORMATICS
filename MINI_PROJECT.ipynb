{
  "nbformat": 4,
  "nbformat_minor": 0,
  "metadata": {
    "colab": {
      "name": "Untitled6.ipynb",
      "provenance": []
    },
    "kernelspec": {
      "name": "python3",
      "display_name": "Python 3"
    },
    "language_info": {
      "name": "python"
    }
  },
  "cells": [
    {
      "cell_type": "markdown",
      "source": [
        "MOTIF FINDING"
      ],
      "metadata": {
        "id": "_o3MciRhWdLW"
      }
    },
    {
      "cell_type": "code",
      "execution_count": null,
      "metadata": {
        "id": "TXGK9A8_WTW4"
      },
      "outputs": [],
      "source": [
        "import random\n",
        "l=int(input(\"Enter the length of motif\"))\n",
        "file=open(\"mot.txt\",\"r\")\n",
        "r=file.read()\n",
        "print(\"Sequence\",r)\n",
        "size=len(r)\n",
        "print(\"Size of the sequence\",size)\n",
        "pos=random.randint(0,len(r)-5)\n",
        "#pos=1\n",
        "print(\"Position\",pos)\n",
        "motif=r[pos:pos+l]\n",
        "print(\"Motif\",motif)\n",
        "i=pos+1\n",
        "while(i<=size-1):\n",
        " if(motif==r[i:i+1]):\n",
        " str1=r[i:i+1]\n",
        " print(\"Match motif\",str1)\n",
        "file1=open(\"motoutput.txt\",\"a\")\n",
        "file1.write(str1+\" \")\n",
        "i+=1"
      ]
    }
  ]
}