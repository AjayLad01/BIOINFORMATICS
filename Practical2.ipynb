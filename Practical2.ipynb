{
  "nbformat": 4,
  "nbformat_minor": 0,
  "metadata": {
    "colab": {
      "name": "Untitled4.ipynb",
      "provenance": []
    },
    "kernelspec": {
      "name": "python3",
      "display_name": "Python 3"
    },
    "language_info": {
      "name": "python"
    }
  },
  "cells": [
    {
      "cell_type": "markdown",
      "source": [
        "Practical 2"
      ],
      "metadata": {
        "id": "m-Yv9NhdUojL"
      }
    },
    {
      "cell_type": "code",
      "execution_count": null,
      "metadata": {
        "id": "J4i65UT3UnvZ"
      },
      "outputs": [],
      "source": [
        "se1=input(\"Enter the first sequence::\")\n",
        "se2=input(\"Enter the second sequence::\")\n",
        "seq1=list(se1)\n",
        "seq2=list(se2)\n",
        "def find_identity(a,b):\n",
        " gap(a,b)\n",
        " print(a)\n",
        " print(b)\n",
        " score=0\n",
        " length=len(a)\n",
        " total_elements=len(a)*len(b)\n",
        " for i in range(0,length):\n",
        "  for j in range(0,length):\n",
        "   if(a[i]==b[j]):\n",
        "     score=score+1\n",
        "      identity=(score/total_elements)*100\n",
        "     print(\"Matching Score::\",score)\n",
        "     print(\"Identity of the sequences::\",identity)\n",
        "def gap(a,b):\n",
        " if(len(a)==len(b)):\n",
        "  print()\n",
        " else:\n",
        "  k=int(input(\"enter the position to insert gap ::\"))\n",
        "  if (len(a)<len(b)):\n",
        "   a.insert(k,'-')\n",
        "  else:\n",
        "   b.insert(k,'-')\n",
        "return(a,b)\n",
        "find_identity(seq1,seq2)"
      ]
    }
  ]
}