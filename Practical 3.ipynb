{
  "nbformat": 4,
  "nbformat_minor": 0,
  "metadata": {
    "colab": {
      "name": "Untitled5.ipynb",
      "provenance": []
    },
    "kernelspec": {
      "name": "python3",
      "display_name": "Python 3"
    },
    "language_info": {
      "name": "python"
    }
  },
  "cells": [
    {
      "cell_type": "markdown",
      "source": [
        "Practical 3"
      ],
      "metadata": {
        "id": "R93n5M4qVjwd"
      }
    },
    {
      "cell_type": "code",
      "execution_count": null,
      "metadata": {
        "id": "1R12mY5VVjRJ"
      },
      "outputs": [],
      "source": [
        "sequence_one=input(\"Enter the first sequence: \")\n",
        "sequence_two=input(\"Enter the second sequence: \")\n",
        "how_many=int(input(\"How many elements for similarity condition?\"))\n",
        "similarities=[]\n",
        "for i in range(0,how_many):\n",
        " a=input(\"Enter an element: \")\n",
        " c=int(input(\"How many elements is it similar to? \"))\n",
        " similarities.append([])\n",
        " similarities[i].append(a)\n",
        "for j in range(0,c):\n",
        " b=input(\"What is it similar to? \")\n",
        " similarities[i].append(b)\n",
        "def compare(o,t,s):\n",
        " print(o)\n",
        " print(t)\n",
        " print(s)\n",
        "#checking if similar\n",
        " score=0\n",
        " for i in range(len(o)):\n",
        "  for j in range(len(s)):\n",
        "   if o[i] in s[j] and t[i] in s[j] and o[i] != t[i]:\n",
        "     score+=1\n",
        "#calculating similarity\n",
        "similarity= (score*100)/len(o)\n",
        "return similarity\n",
        "print(compare(list(sequence_one),list(sequence_two),similarities),\"%\")"
      ]
    }
  ]
}