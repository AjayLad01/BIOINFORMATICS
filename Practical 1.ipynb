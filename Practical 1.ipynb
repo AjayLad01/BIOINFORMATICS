{
  "nbformat": 4,
  "nbformat_minor": 0,
  "metadata": {
    "colab": {
      "name": "Untitled3.ipynb",
      "provenance": []
    },
    "kernelspec": {
      "name": "python3",
      "display_name": "Python 3"
    },
    "language_info": {
      "name": "python"
    }
  },
  "cells": [
    {
      "cell_type": "markdown",
      "source": [
        "pairwise alignment."
      ],
      "metadata": {
        "id": "xDCeCgNESqrZ"
      }
    },
    {
      "cell_type": "code",
      "source": [
        "se1=input(\"Enter the first sequence::\")\n",
        "se2=input(\"Enter the second sequence::\")\n",
        "seq1=list(se1)\n",
        "seq2=list(se2)\n",
        "score=[]\n",
        "def Pairwise_alignment(a,b):\n",
        " gap(a,b)\n",
        " print(a)\n",
        " print(b)\n",
        " value=0\n",
        " length=len(a)\n",
        " for i in range(0,length):\n",
        "  if(a[i]==b[i]):\n",
        "   score.append('1')\n",
        "   value=value+1\n",
        "  else:\n",
        "   score.append('0')\n",
        "print(score)\n",
        "print(value)\n",
        "def gap(a,b):\n",
        " if(len(a)==len(b)):\n",
        "  print()\n",
        " else:\n",
        "  k=int(input(\"enter the position to insert::\"))\n",
        "  if (len(a)<len(b)):\n",
        "   a.insert(k,'-')\n",
        "  else:\n",
        "   b.insert(k,'-')\n",
        "return(a,b)\n",
        "Pairwise_alignment(seq1,seq2)"
      ],
      "metadata": {
        "id": "DlhgGl6cTwDv"
      },
      "execution_count": null,
      "outputs": []
    }
  ]
}